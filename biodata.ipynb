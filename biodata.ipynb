{
 "cells": [
  {
   "cell_type": "code",
   "execution_count": 3,
   "metadata": {},
   "outputs": [],
   "source": [
    "Name= \"Ahmed\"\n",
    "Father_Name=\"Abdul Rauf\"\n",
    "Age=\"22\"\n",
    "Gender=\"Male\"\n",
    "Education=\"Bcom\"\n"
   ]
  },
  {
   "cell_type": "code",
   "execution_count": 11,
   "metadata": {},
   "outputs": [
    {
     "name": "stdout",
     "output_type": "stream",
     "text": [
      "Name: Ahmed\n",
      "Father Name: Abdul Rauf\n",
      "Age: 22\n",
      "Gender: Male\n",
      "Education: Bcom\n"
     ]
    }
   ],
   "source": [
    "print(\"Name\"+\":\",Name)\n",
    "print(\"Father Name\"+\":\",Father_Name)\n",
    "print(\"Age\"+\":\",Age)\n",
    "print(\"Gender\"+\":\",Gender)\n",
    "print(\"Education\"+\":\",Education)"
   ]
  },
  {
   "cell_type": "code",
   "execution_count": null,
   "metadata": {},
   "outputs": [],
   "source": []
  }
 ],
 "metadata": {
  "kernelspec": {
   "display_name": "Python 3",
   "language": "python",
   "name": "python3"
  },
  "language_info": {
   "codemirror_mode": {
    "name": "ipython",
    "version": 3
   },
   "file_extension": ".py",
   "mimetype": "text/x-python",
   "name": "python",
   "nbconvert_exporter": "python",
   "pygments_lexer": "ipython3",
   "version": "3.7.4"
  }
 },
 "nbformat": 4,
 "nbformat_minor": 2
}
