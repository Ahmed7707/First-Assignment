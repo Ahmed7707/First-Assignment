{
 "cells": [
  {
   "cell_type": "code",
   "execution_count": 3,
   "metadata": {},
   "outputs": [],
   "source": [
    "fname=\"Ahmed \"\n",
    "lname=\"Abdul Rauf\"\n",
    "m=10\n"
   ]
  },
  {
   "cell_type": "code",
   "execution_count": 4,
   "metadata": {},
   "outputs": [
    {
     "name": "stdout",
     "output_type": "stream",
     "text": [
      "Ahmed Abdul Rauf\n",
      "Ahmed  Abdul Rauf\n",
      "Ahmed Abdul Rauf10\n"
     ]
    }
   ],
   "source": [
    "print(fname + lname)\n",
    "print(fname,lname)\n",
    "print(fname+lname+str(m))"
   ]
  },
  {
   "cell_type": "code",
   "execution_count": 7,
   "metadata": {},
   "outputs": [
    {
     "name": "stdout",
     "output_type": "stream",
     "text": [
      "Enter first no: 10\n",
      "Enter second no: 20\n",
      "30\n"
     ]
    }
   ],
   "source": [
    "num_1= int(input(\"Enter first no: \"))\n",
    "num_2= int(input(\"Enter second no: \"))\n",
    "sum_=num_1+num_2\n",
    "print(sum_)"
   ]
  },
  {
   "cell_type": "code",
   "execution_count": 26,
   "metadata": {},
   "outputs": [
    {
     "name": "stdout",
     "output_type": "stream",
     "text": [
      "enter radius of a circle: 1.8\n",
      "10.1736\n"
     ]
    }
   ],
   "source": [
    "PI = 3.14\n",
    "radius= float(input(\"enter radius of a circle: \"))\n",
    "area = PI*radius**2\n",
    "print(area)"
   ]
  },
  {
   "cell_type": "code",
   "execution_count": 27,
   "metadata": {},
   "outputs": [
    {
     "name": "stdout",
     "output_type": "stream",
     "text": [
      "Enter Your Name: Ahmed\n",
      "Enter your age: 25\n",
      "You will turn 100yrs in 2095\n"
     ]
    }
   ],
   "source": [
    "name= input(\"Enter Your Name: \")\n",
    "age= int(input(\"Enter your age: \"))\n",
    "cal= 100-age\n",
    "cal_1= cal+2020\n",
    "print(\"You will turn 100yrs in\",cal_1)\n"
   ]
  },
  {
   "cell_type": "code",
   "execution_count": 40,
   "metadata": {},
   "outputs": [
    {
     "name": "stdout",
     "output_type": "stream",
     "text": [
      "Enter your age: 15\n",
      "Not Eligible\n"
     ]
    }
   ],
   "source": [
    "age= int(input(\"Enter your age: \" ))\n",
    "           \n",
    "if age >= 18:\n",
    "    print(\"Eligible\")\n",
    "else:\n",
    "    print(\"Not Eligible\")\n",
    "    "
   ]
  },
  {
   "cell_type": "code",
   "execution_count": 48,
   "metadata": {},
   "outputs": [
    {
     "name": "stdout",
     "output_type": "stream",
     "text": [
      "Enter Your English Marks; 50\n",
      "Enter Your Maths Marks: 40\n",
      "Enter your Accounts Marks: 36\n",
      "Obtained Marks:  126\n",
      "Percentage:  42.0\n"
     ]
    }
   ],
   "source": [
    "English=int(input(\"Enter Your English Marks; \"))\n",
    "Maths= int(input(\"Enter Your Maths Marks: \"))\n",
    "Accounts= int(input(\"Enter your Accounts Marks: \"))\n",
    "Obtained_marks= English+Maths+Accounts\n",
    "total= 300\n",
    "per= (Obtained_marks*100)/ total\n",
    "print(\"Obtained Marks: \",Obtained_marks)\n",
    "print(\"Percentage: \",per)\n"
   ]
  },
  {
   "cell_type": "code",
   "execution_count": 49,
   "metadata": {},
   "outputs": [
    {
     "name": "stdout",
     "output_type": "stream",
     "text": [
      "Fail\n"
     ]
    }
   ],
   "source": [
    "if per >= 80 and per <= 100:\n",
    "    print(\"A+\")\n",
    "elif per >= 70 and per < 80:\n",
    "    print(\"B+\")\n",
    "elif per >= 60 and per < 70:\n",
    "    print(\"B\")\n",
    "else:\n",
    "    print(\"Fail\")"
   ]
  },
  {
   "cell_type": "code",
   "execution_count": 2,
   "metadata": {},
   "outputs": [
    {
     "name": "stdout",
     "output_type": "stream",
     "text": [
      "Enter Colour: purple\n",
      "Lost\n"
     ]
    }
   ],
   "source": [
    "alien_color= input(\"Enter Colour: \")\n",
    "color= alien_color.lower() \n",
    "if color==\"green\":\n",
    "    print(\"You Earned 5 Point\")\n",
    "elif color== \"yellow\" or color==\"blue\":\n",
    "    print(\"You Earned 10 Points\")\n",
    "else:\n",
    "    print(\"Lost\")"
   ]
  },
  {
   "cell_type": "code",
   "execution_count": null,
   "metadata": {},
   "outputs": [],
   "source": []
  }
 ],
 "metadata": {
  "kernelspec": {
   "display_name": "Python 3",
   "language": "python",
   "name": "python3"
  },
  "language_info": {
   "codemirror_mode": {
    "name": "ipython",
    "version": 3
   },
   "file_extension": ".py",
   "mimetype": "text/x-python",
   "name": "python",
   "nbconvert_exporter": "python",
   "pygments_lexer": "ipython3",
   "version": "3.7.4"
  }
 },
 "nbformat": 4,
 "nbformat_minor": 2
}
